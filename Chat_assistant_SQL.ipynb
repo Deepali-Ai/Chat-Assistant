{
 "cells": [
  {
   "cell_type": "markdown",
   "id": "742b4876-f1bd-4400-8ed8-9e8a74890e2c",
   "metadata": {},
   "source": [
    "### To meet the requirements, I’ll design a Python-based chat assistant that interacts with an SQLite database."
   ]
  },
  {
   "cell_type": "markdown",
   "id": "04053190-0270-49dc-82cf-952d0e80f857",
   "metadata": {},
   "source": [
    "# Setting Up the SQLite Database"
   ]
  },
  {
   "cell_type": "code",
   "execution_count": 69,
   "id": "6b874c9e-f3e2-4005-9b1f-0b713c79e122",
   "metadata": {},
   "outputs": [
    {
     "data": {
      "text/plain": [
       "<sqlite3.Cursor at 0x124051c40>"
      ]
     },
     "execution_count": 69,
     "metadata": {},
     "output_type": "execute_result"
    }
   ],
   "source": [
    "import sqlite3\n",
    "\n",
    "# Connect to SQLite database\n",
    "conn = sqlite3.connect('company.db')\n",
    "cursor = conn.cursor()\n",
    "\n",
    "# Create the Employees table\n",
    "cursor.execute('''\n",
    "CREATE TABLE IF NOT EXISTS Employees (\n",
    "    ID INTEGER PRIMARY KEY,\n",
    "    Name TEXT,\n",
    "    Department TEXT,\n",
    "    Salary INTEGER,\n",
    "    Hire_Date TEXT\n",
    ")\n",
    "''')\n",
    "\n",
    "# Create the Departments table\n",
    "cursor.execute('''\n",
    "CREATE TABLE IF NOT EXISTS Departments (\n",
    "    ID INTEGER PRIMARY KEY,\n",
    "    Name TEXT,\n",
    "    Manager TEXT\n",
    ")\n",
    "''')"
   ]
  },
  {
   "cell_type": "code",
   "execution_count": 71,
   "id": "5bef7020-d0a4-4663-b2e3-5db4a41c29ae",
   "metadata": {},
   "outputs": [
    {
     "data": {
      "text/plain": [
       "<sqlite3.Cursor at 0x124051c40>"
      ]
     },
     "execution_count": 71,
     "metadata": {},
     "output_type": "execute_result"
    }
   ],
   "source": [
    "# Insert initial data into the Employees table\n",
    "employees_data = [\n",
    "    (1, 'Alice', 'Sales', 50000, '2021-01-15'),\n",
    "    (2, 'Bob', 'Engineering', 70000, '2020-06-10'),\n",
    "    (3, 'Charlie', 'Marketing', 60000, '2022-03-20'),\n",
    "    (4, 'David', 'Sales', 52000, '2021-08-15'),\n",
    "    (5, 'Eve', 'Engineering', 75000, '2022-01-25')\n",
    "]\n",
    "\n",
    "cursor.executemany('''\n",
    "INSERT OR REPLACE INTO Employees (ID, Name, Department, Salary, Hire_Date)\n",
    "VALUES (?, ?, ?, ?, ?)\n",
    "''', employees_data)\n",
    "\n",
    "# Insert initial data into the Departments table\n",
    "departments_data = [\n",
    "    (1, 'Sales', 'Alice'),\n",
    "    (2, 'Engineering', 'Bob'),\n",
    "    (3, 'Marketing', 'Charlie')\n",
    "]\n",
    "\n",
    "cursor.executemany('''\n",
    "INSERT OR REPLACE INTO Departments (ID, Name, Manager)\n",
    "VALUES (?, ?, ?)\n",
    "''', departments_data)"
   ]
  },
  {
   "cell_type": "code",
   "execution_count": 73,
   "id": "9fe78cd0-f7ba-456f-b41a-6d4e439ea627",
   "metadata": {},
   "outputs": [],
   "source": [
    "# Commit changes and close the connection\n",
    "conn.commit()\n",
    "conn.close()"
   ]
  },
  {
   "cell_type": "markdown",
   "id": "33e2a438-92c4-41dc-b2f2-05592a824eb4",
   "metadata": {},
   "source": [
    "### Design the Chat Assistant"
   ]
  },
  {
   "cell_type": "markdown",
   "id": "cca1f759-7a79-43e2-9bce-570f572de5d1",
   "metadata": {},
   "source": [
    "* The assistant will need to handle a variety of queries. I'll define the supported queries and then implement error handling."
   ]
  },
  {
   "cell_type": "markdown",
   "id": "782d334b-9d73-4d29-be87-9c3597f27b15",
   "metadata": {},
   "source": [
    "# Implementing the Assistant"
   ]
  },
  {
   "cell_type": "code",
   "execution_count": 79,
   "id": "eb5747cc-ae56-42c2-b2cd-7c9676307207",
   "metadata": {},
   "outputs": [
    {
     "name": "stdout",
     "output_type": "stream",
     "text": [
      "Welcome to the Company Assistant! Type 'exit' to quit.\n"
     ]
    },
    {
     "name": "stdin",
     "output_type": "stream",
     "text": [
      "\n",
      "How can I assist you?\n",
      " What is the total salary expense for the Marketing department\n"
     ]
    },
    {
     "name": "stdout",
     "output_type": "stream",
     "text": [
      "The total salary expense for the Marketing department is $60,000.00.\n"
     ]
    },
    {
     "name": "stdin",
     "output_type": "stream",
     "text": [
      "\n",
      "How can I assist you?\n",
      " exit\n"
     ]
    },
    {
     "name": "stdout",
     "output_type": "stream",
     "text": [
      "Goodbye!\n"
     ]
    }
   ],
   "source": [
    "import sqlite3\n",
    "import re\n",
    "\n",
    "# Function to connect to the database\n",
    "def connect_db():\n",
    "    return sqlite3.connect('company.db')\n",
    "\n",
    "# Function to process the query and return data\n",
    "def execute_query(query):\n",
    "    conn = connect_db()\n",
    "    cursor = conn.cursor()\n",
    "\n",
    "    try:\n",
    "        cursor.execute(query)\n",
    "        result = cursor.fetchall()\n",
    "        conn.close()\n",
    "        return result\n",
    "    except sqlite3.Error as e:\n",
    "        conn.close()\n",
    "        return f\"Error: {e}\"\n",
    "\n",
    "# Function to handle user queries\n",
    "def chat_assistant(query):\n",
    "    # Normalize the query (make it lowercase for simplicity)\n",
    "    query = query.lower()\n",
    "\n",
    "    # Query 1: Show all employees in a department\n",
    "    if \"show me all employees in the\" in query:\n",
    "        match = re.search(r\"show me all employees in the (.*?) department\", query)\n",
    "        if match:\n",
    "            department = match.group(1).capitalize()\n",
    "            sql_query = f\"SELECT Name FROM Employees WHERE Department = '{department}'\"\n",
    "            result = execute_query(sql_query)\n",
    "            if result:\n",
    "                return f\"Employees in the {department} department: \" + \", \".join([r[0] for r in result])\n",
    "            else:\n",
    "                return f\"No employees found in the {department} department.\"\n",
    "        else:\n",
    "            return \"I couldn't understand the department name.\"\n",
    "\n",
    "    # Query 2: Who is the manager of a department\n",
    "    elif \"who is the manager of the\" in query:\n",
    "        match = re.search(r\"who is the manager of the (.*?) department\", query)\n",
    "        if match:\n",
    "            department = match.group(1).capitalize()\n",
    "            sql_query = f\"SELECT Manager FROM Departments WHERE Name = '{department}'\"\n",
    "            result = execute_query(sql_query)\n",
    "            if result:\n",
    "                return f\"The manager of the {department} department is {result[0][0]}.\"\n",
    "            else:\n",
    "                return f\"No manager found for the {department} department.\"\n",
    "        else:\n",
    "            return \"I couldn't understand the department name.\"\n",
    "\n",
    "    # Query 3: List employees hired after a certain date\n",
    "    elif \"list all employees hired after\" in query:\n",
    "        match = re.search(r\"list all employees hired after (.*?)$\", query)\n",
    "        if match:\n",
    "            date = match.group(1)\n",
    "            sql_query = f\"SELECT Name FROM Employees WHERE Hire_Date > '{date}'\"\n",
    "            result = execute_query(sql_query)\n",
    "            if result:\n",
    "                return f\"Employees hired after {date}: \" + \", \".join([r[0] for r in result])\n",
    "            else:\n",
    "                return f\"No employees found hired after {date}.\"\n",
    "        else:\n",
    "            return \"I couldn't understand the date format.\"\n",
    "\n",
    "    # Query 4: Total salary expense for a department\n",
    "    elif \"what is the total salary expense for the\" in query:\n",
    "        match = re.search(r\"what is the total salary expense for the (.*?) department\", query)\n",
    "        if match:\n",
    "            department = match.group(1).capitalize()\n",
    "            sql_query = f\"SELECT SUM(Salary) FROM Employees WHERE Department = '{department}'\"\n",
    "            result = execute_query(sql_query)\n",
    "            if result[0][0]:\n",
    "                return f\"The total salary expense for the {department} department is ${result[0][0]:,.2f}.\"\n",
    "            else:\n",
    "                return f\"No salary data found for the {department} department.\"\n",
    "        else:\n",
    "            return \"I couldn't understand the department name.\"\n",
    "\n",
    "    # Error Handling: If the query is not recognized\n",
    "    else:\n",
    "        return \"Sorry, I didn't understand your query. Please try again.\"\n",
    "\n",
    "# Simple test interface for the user\n",
    "def start_chat():\n",
    "    print(\"Welcome to the Company Assistant! Type 'exit' to quit.\")\n",
    "    while True:\n",
    "        query = input(\"\\nHow can I assist you?\\n\")\n",
    "        if query.lower() == 'exit':\n",
    "            print(\"Goodbye!\")\n",
    "            break\n",
    "        response = chat_assistant(query)\n",
    "        print(response)\n",
    "\n",
    "# Start the chat assistant\n",
    "start_chat()\n",
    "\n"
   ]
  },
  {
   "cell_type": "markdown",
   "id": "33c77c71-ea04-4a9e-9e57-5c409c6f6161",
   "metadata": {},
   "source": [
    "### Queries to Support:\n",
    "* Show me all employees in the [department] department.\n",
    "* Who is the manager of the [department] department?\n",
    "* List all employees hired after [date].\n",
    "* What is the total salary expense for the [department] department?"
   ]
  },
  {
   "cell_type": "code",
   "execution_count": null,
   "id": "83cf4086-9f33-45be-b052-9d2deaa8afb0",
   "metadata": {},
   "outputs": [],
   "source": []
  },
  {
   "cell_type": "code",
   "execution_count": null,
   "id": "e3ed69ae-98b7-4d13-9332-4e515ceb3a4e",
   "metadata": {},
   "outputs": [],
   "source": []
  }
 ],
 "metadata": {
  "kernelspec": {
   "display_name": "Python 3 (ipykernel)",
   "language": "python",
   "name": "python3"
  },
  "language_info": {
   "codemirror_mode": {
    "name": "ipython",
    "version": 3
   },
   "file_extension": ".py",
   "mimetype": "text/x-python",
   "name": "python",
   "nbconvert_exporter": "python",
   "pygments_lexer": "ipython3",
   "version": "3.12.4"
  }
 },
 "nbformat": 4,
 "nbformat_minor": 5
}
